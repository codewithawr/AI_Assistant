{
 "cells": [
  {
   "cell_type": "code",
   "execution_count": 21,
   "metadata": {},
   "outputs": [],
   "source": [
    "import sqlite3 as sl\n",
    "\n",
    "con = sl.connect(\"davinci_chat.db\")\n",
    "with con:\n",
    "    con.execute(\"\"\"CREATE TABLE USE (id INTEGER NOT NULL PRIMARY KEY AUTOINCREMENT,name TEXT, age INTEGER);\"\"\")\n",
    "\n",
    "# https://towardsdatascience.com/do-you-know-python-has-a-built-in-database-d553989c87bd\n",
    "\n",
    "\n",
    "\n",
    "# commit the transaction to save changes to the database\n",
    "# con.commit()\n",
    "\n",
    "# # close the connection\n",
    "# con.close()\n"
   ]
  },
  {
   "cell_type": "code",
   "execution_count": 11,
   "metadata": {},
   "outputs": [],
   "source": [
    "\n",
    "cursor = con.cursor()\n",
    "\n",
    "data = [\n",
    "    ( None, 'Rana', 'k')\n",
    "    ]\n",
    "\n",
    "with con:\n",
    "    cursor.executemany(\"INSERT INTO USER (id, name, age) VALUES (?, ?, ?)\", data)"
   ]
  },
  {
   "cell_type": "code",
   "execution_count": 18,
   "metadata": {},
   "outputs": [
    {
     "name": "stdout",
     "output_type": "stream",
     "text": [
      "[(2, 'Rana', 7), (3, 'Rana', 3), (4, 'Rana', 3), (5, 'Rana', 3), (6, 'Rana', 'k'), (7, 'Rana', 'k'), (8, 'Rana', 'k')]\n"
     ]
    }
   ],
   "source": [
    "with con:\n",
    "    data = con.execute(\"SELECT* FROM USER\")\n",
    "    print(list(data))"
   ]
  }
 ],
 "metadata": {
  "kernelspec": {
   "display_name": "myenv",
   "language": "python",
   "name": "python3"
  },
  "language_info": {
   "codemirror_mode": {
    "name": "ipython",
    "version": 3
   },
   "file_extension": ".py",
   "mimetype": "text/x-python",
   "name": "python",
   "nbconvert_exporter": "python",
   "pygments_lexer": "ipython3",
   "version": "3.9.12"
  },
  "orig_nbformat": 4,
  "vscode": {
   "interpreter": {
    "hash": "68fe94821baf299e7ec87c1271b52fe756f264dc43e6fec4b4d4171b1fb1a5d7"
   }
  }
 },
 "nbformat": 4,
 "nbformat_minor": 2
}
